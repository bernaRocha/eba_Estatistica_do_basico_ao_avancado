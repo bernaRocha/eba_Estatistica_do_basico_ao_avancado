{
 "cells": [
  {
   "cell_type": "code",
   "execution_count": 17,
   "id": "cbf24fb6",
   "metadata": {},
   "outputs": [],
   "source": [
    "import numpy as np\n",
    "import math"
   ]
  },
  {
   "cell_type": "markdown",
   "id": "6f6477b0",
   "metadata": {},
   "source": [
    "## Desvio padrão populacional conhecido"
   ]
  },
  {
   "cell_type": "code",
   "execution_count": 10,
   "id": "543f2039",
   "metadata": {},
   "outputs": [],
   "source": [
    "# calculando o erro padrão\n",
    "\n",
    "media_amostra = 22.9\n",
    "n = 20 # amostra de 20 dados\n",
    "desvio_padrao = 1.5\n",
    "\n",
    "erro_padrao = desvio_padrao/(math.sqrt(n))"
   ]
  },
  {
   "cell_type": "markdown",
   "id": "5ca16fab",
   "metadata": {},
   "source": [
    "### Calculadora de z_score\n",
    "\n",
    "https://www.calculator.net/z-score-calculator.html"
   ]
  },
  {
   "cell_type": "code",
   "execution_count": 11,
   "id": "dc35ccdc",
   "metadata": {},
   "outputs": [
    {
     "name": "stdout",
     "output_type": "stream",
     "text": [
      "O z-score para 95% de confiança é 1.645\n"
     ]
    }
   ],
   "source": [
    "# criando o intervalo\n",
    "print('O z-score para 95% de confiança é 1.645')\n",
    "margem_de_erro = 1.645 * erro_padrao\n",
    "\n",
    "limite_inferior = media_amostra - margem_de_erro\n",
    "limite_superior = media_amostra + margem_de_erro"
   ]
  },
  {
   "cell_type": "code",
   "execution_count": 16,
   "id": "b40036d9",
   "metadata": {},
   "outputs": [
    {
     "name": "stdout",
     "output_type": "stream",
     "text": [
      "O intervalo de confiança para 95% de confiança é de [22.348, 23.452]\n"
     ]
    }
   ],
   "source": [
    "print(f'O intervalo de confiança para 95% de confiança é de [{round(limite_inferior,3)}, {round(limite_superior,3)}]')"
   ]
  },
  {
   "cell_type": "markdown",
   "id": "44902f3d",
   "metadata": {},
   "source": [
    "## Desvio padrão populacional desconhecido"
   ]
  }
 ],
 "metadata": {
  "kernelspec": {
   "display_name": "Python 3 (ipykernel)",
   "language": "python",
   "name": "python3"
  },
  "language_info": {
   "codemirror_mode": {
    "name": "ipython",
    "version": 3
   },
   "file_extension": ".py",
   "mimetype": "text/x-python",
   "name": "python",
   "nbconvert_exporter": "python",
   "pygments_lexer": "ipython3",
   "version": "3.11.3"
  }
 },
 "nbformat": 4,
 "nbformat_minor": 5
}
