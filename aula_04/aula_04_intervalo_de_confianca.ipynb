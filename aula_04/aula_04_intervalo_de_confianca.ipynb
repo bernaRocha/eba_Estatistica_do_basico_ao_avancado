{
 "cells": [
  {
   "cell_type": "markdown",
   "id": "d3e68a3a",
   "metadata": {},
   "source": [
    "# Intervalos de confiança"
   ]
  },
  {
   "cell_type": "code",
   "execution_count": 2,
   "id": "cbf24fb6",
   "metadata": {},
   "outputs": [],
   "source": [
    "import numpy as np\n",
    "import math"
   ]
  },
  {
   "cell_type": "markdown",
   "id": "6f6477b0",
   "metadata": {},
   "source": [
    "## Com desvio padrão populacional conhecido"
   ]
  },
  {
   "cell_type": "code",
   "execution_count": 3,
   "id": "543f2039",
   "metadata": {},
   "outputs": [],
   "source": [
    "# calculando o erro padrão\n",
    "\n",
    "media_amostra = 22.9\n",
    "n = 20 # amostra de 20 dados\n",
    "desvio_padrao = 1.5\n",
    "\n",
    "erro_padrao = desvio_padrao/(math.sqrt(n))"
   ]
  },
  {
   "cell_type": "markdown",
   "id": "5ca16fab",
   "metadata": {},
   "source": [
    "### Calculadora de z_score, valores críticos de Z\n",
    "\n",
    "https://www.omnicalculator.com/statistics/critical-value"
   ]
  },
  {
   "cell_type": "code",
   "execution_count": 4,
   "id": "dc35ccdc",
   "metadata": {},
   "outputs": [
    {
     "name": "stdout",
     "output_type": "stream",
     "text": [
      "O z-score para 95% de confiança é 1.645\n"
     ]
    }
   ],
   "source": [
    "# criando o intervalo\n",
    "print('O z-score para 95% de confiança é 1.645')\n",
    "margem_de_erro = 1.645 * erro_padrao\n",
    "\n",
    "limite_inferior = media_amostra - margem_de_erro\n",
    "limite_superior = media_amostra + margem_de_erro"
   ]
  },
  {
   "cell_type": "code",
   "execution_count": 5,
   "id": "b40036d9",
   "metadata": {},
   "outputs": [
    {
     "name": "stdout",
     "output_type": "stream",
     "text": [
      "A 95% de confiança dizemos que nossa média populacional está entre [22.348, 23.452]\n"
     ]
    }
   ],
   "source": [
    "print(f'A 95% de confiança dizemos que nossa média populacional está entre [{round(limite_inferior,3)}, {round(limite_superior,3)}]')"
   ]
  },
  {
   "cell_type": "markdown",
   "id": "44902f3d",
   "metadata": {},
   "source": [
    "## Com desvio padrão populacional desconhecido"
   ]
  },
  {
   "cell_type": "code",
   "execution_count": 10,
   "id": "5a5cf10f",
   "metadata": {},
   "outputs": [],
   "source": [
    "amostra = 16\n",
    "gl = amostra - 1 # graus de liberdade\n",
    "media_amostra = 162\n",
    "desvio_padrao_amostra = 10\n",
    "intervalo_confianca = 0.95"
   ]
  },
  {
   "cell_type": "markdown",
   "id": "a99377a3",
   "metadata": {},
   "source": [
    "### Valor crítico de t calculado em:\n",
    "\n",
    "https://www.omnicalculator.com/statistics/critical-value"
   ]
  },
  {
   "cell_type": "code",
   "execution_count": 11,
   "id": "2becbef4",
   "metadata": {},
   "outputs": [],
   "source": [
    "# Critical value: ±2.1314\n",
    "\n",
    "t = 2.1314"
   ]
  },
  {
   "cell_type": "code",
   "execution_count": 12,
   "id": "e9d51882",
   "metadata": {},
   "outputs": [
    {
     "data": {
      "text/plain": [
       "5.3285"
      ]
     },
     "execution_count": 12,
     "metadata": {},
     "output_type": "execute_result"
    }
   ],
   "source": [
    "margem_erro = t * desvio_padrao_amostra / math.sqrt(amostra)\n",
    "margem_erro"
   ]
  },
  {
   "cell_type": "code",
   "execution_count": 14,
   "id": "3a8ff35b",
   "metadata": {},
   "outputs": [],
   "source": [
    "ms = media_amostra + margem_erro\n",
    "mi = media_amostra - margem_erro"
   ]
  },
  {
   "cell_type": "code",
   "execution_count": 16,
   "id": "4712036b",
   "metadata": {},
   "outputs": [
    {
     "name": "stdout",
     "output_type": "stream",
     "text": [
      "A 95% de confiança dizemos que nossa média populacional está entre [156.67, 167.33]\n"
     ]
    }
   ],
   "source": [
    "print(f'A 95% de confiança dizemos que nossa média populacional está entre [{round(mi,2)}, {round(ms,2)}]')"
   ]
  },
  {
   "cell_type": "code",
   "execution_count": null,
   "id": "05c34e91",
   "metadata": {},
   "outputs": [],
   "source": []
  }
 ],
 "metadata": {
  "kernelspec": {
   "display_name": "Python 3 (ipykernel)",
   "language": "python",
   "name": "python3"
  },
  "language_info": {
   "codemirror_mode": {
    "name": "ipython",
    "version": 3
   },
   "file_extension": ".py",
   "mimetype": "text/x-python",
   "name": "python",
   "nbconvert_exporter": "python",
   "pygments_lexer": "ipython3",
   "version": "3.11.3"
  }
 },
 "nbformat": 4,
 "nbformat_minor": 5
}
