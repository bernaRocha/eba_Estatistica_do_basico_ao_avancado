{
 "cells": [
  {
   "cell_type": "code",
   "execution_count": 1,
   "id": "edcba47d",
   "metadata": {},
   "outputs": [],
   "source": [
    "import math"
   ]
  },
  {
   "cell_type": "markdown",
   "id": "c933e183",
   "metadata": {},
   "source": [
    "## Teste de hipótese com média populacional conhecida"
   ]
  },
  {
   "cell_type": "markdown",
   "id": "f4185b15",
   "metadata": {},
   "source": [
    "Exemplo: Em corrida de carros, o pit stop é o local em que um veículo vai\n",
    "para trocar pneus, abastecer, efetuar reparos e outros ajustes mecânicos. A\n",
    "eficiência de uma equipe que realiza esses ajustes pode afetar o resultado de\n",
    "uma corrida. Uma equipe afirma que seu tempo médio no pit stop (para 4\n",
    "trocas de pneus e abastecimento) é menor que 13 segundos. Uma amostra\n",
    "aleatória de 32 tempos de pit stop tem uma média de 12,9 segundos.\n",
    "Suponha que o desvio padrão populacional é de 0,19 segundos. Há\n",
    "evidência suficiente para concordar com a afirmação para 99% de confiança?\n",
    "\n",
    "É um teste unicaudal à esquerda"
   ]
  },
  {
   "cell_type": "code",
   "execution_count": 4,
   "id": "102def86",
   "metadata": {},
   "outputs": [],
   "source": [
    "n = 32\n",
    "media_amostra = 12.9\n",
    "media_populacional = 13\n",
    "desvio_p_pop = 0.19\n",
    "confianca = 0.99\n",
    "alpha = 1 - confianca"
   ]
  },
  {
   "cell_type": "markdown",
   "id": "724d9888",
   "metadata": {},
   "source": [
    "h0 = média >= 13 segundos <br>\n",
    "ha = média < 13 segundos"
   ]
  },
  {
   "cell_type": "code",
   "execution_count": 8,
   "id": "8aae1399",
   "metadata": {},
   "outputs": [
    {
     "data": {
      "text/plain": [
       "-2.977291710259137"
      ]
     },
     "execution_count": 8,
     "metadata": {},
     "output_type": "execute_result"
    }
   ],
   "source": [
    "z_calculado = (media_amostra - media_populacional) / (desvio_p_pop / math.sqrt(n)) \n",
    "z_calculado"
   ]
  },
  {
   "cell_type": "markdown",
   "id": "a842ab06",
   "metadata": {},
   "source": [
    "A probabilidade embaixo da curva é o z_calculado, essa área é o <b>p-valor</b><br>\n",
    "\n",
    "Usando a calculadora https://www.omnicalculator.com/statistics/critical-value com distribuição Z, teste unicaudal à esquerda e nível de significância de 0.01 temos um valor crítico de [Critical value: -2.3263]"
   ]
  },
  {
   "cell_type": "code",
   "execution_count": 19,
   "id": "6e0c1359",
   "metadata": {},
   "outputs": [
    {
     "name": "stdout",
     "output_type": "stream",
     "text": [
      "O Z crítico é -2.3263, maior que o Z calculado de -2.9773, \n",
      "logo o Z calculado cai na região de rejeição e rejeitamos Ho. \n",
      "Ou seja, há evidência suficiente ao nível de significância de 1% para rejeitar \n",
      "com a afirmação de que o tempo médio no pit stop é menor que 13 segundos (Ha)\n"
     ]
    }
   ],
   "source": [
    "z_critico = -2.3263\n",
    "\n",
    "print(f'''O Z crítico é {z_critico}, maior que o Z calculado de {round(z_calculado, 4)}, \n",
    "logo o Z calculado cai na região de rejeição e rejeitamos Ho. \n",
    "Ou seja, há evidência suficiente ao nível de significância de 1% para rejeitar \n",
    "com a afirmação de que o tempo médio no pit stop é menor que 13 segundos (Ha)''')"
   ]
  },
  {
   "cell_type": "code",
   "execution_count": 21,
   "id": "b2a55f19",
   "metadata": {},
   "outputs": [],
   "source": [
    "from scipy.stats import norm"
   ]
  },
  {
   "cell_type": "code",
   "execution_count": 22,
   "id": "e41943c3",
   "metadata": {},
   "outputs": [
    {
     "data": {
      "text/plain": [
       "0.0014540358484991462"
      ]
     },
     "execution_count": 22,
     "metadata": {},
     "output_type": "execute_result"
    }
   ],
   "source": [
    "Z = (12.9-13) /(0.19/math.sqrt(32))\n",
    "norm.cdf(Z)\n",
    "\n",
    "# Normal cumulative distribution function"
   ]
  },
  {
   "cell_type": "markdown",
   "id": "eb86a308",
   "metadata": {},
   "source": [
    "## Teste de hipótese com desvio-padrão populacional desconhecido"
   ]
  },
  {
   "cell_type": "markdown",
   "id": "8d8934e7",
   "metadata": {},
   "source": [
    "Exemplo: Em corrida de carros, o pit stop é o local em que um veículo vai\n",
    "para trocar pneus, abastecer, efetuar reparos e outros ajustes mecânicos. A\n",
    "eficiência de uma equipe que realiza esses ajustes pode afetar o resultado de\n",
    "uma corrida. Uma equipe afirma que seu tempo médio no pit stop (para 4\n",
    "trocas de pneus e abastecimento) é menor que 13 segundos. Uma amostra\n",
    "aleatória de 32 tempos de pit stop tem uma média de 12,9 segundos.\n",
    "Suponha que o <b>desvio padrão amostral é de 0,4 segundos.</b> Há\n",
    "evidência suficiente para concordar com a afirmação para 99% de confiança?"
   ]
  },
  {
   "cell_type": "code",
   "execution_count": 25,
   "id": "7c3e7851",
   "metadata": {},
   "outputs": [
    {
     "data": {
      "text/plain": [
       "0.08363231544793762"
      ]
     },
     "execution_count": 25,
     "metadata": {},
     "output_type": "execute_result"
    }
   ],
   "source": [
    "import scipy.stats\n",
    "t = (12.9-13)/(0.4/(math.sqrt(32)))\n",
    "dof = 32 - 1\n",
    "\n",
    "scipy.stats.t.sf(abs(t), df=dof)"
   ]
  }
 ],
 "metadata": {
  "kernelspec": {
   "display_name": "Python 3 (ipykernel)",
   "language": "python",
   "name": "python3"
  },
  "language_info": {
   "codemirror_mode": {
    "name": "ipython",
    "version": 3
   },
   "file_extension": ".py",
   "mimetype": "text/x-python",
   "name": "python",
   "nbconvert_exporter": "python",
   "pygments_lexer": "ipython3",
   "version": "3.11.3"
  }
 },
 "nbformat": 4,
 "nbformat_minor": 5
}
